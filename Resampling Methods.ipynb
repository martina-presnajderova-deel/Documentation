{
 "cells": [
  {
   "cell_type": "markdown",
   "metadata": {},
   "source": [
    "# Resampling methods\n",
    "## Cross-validation\n",
    "\n",
    "**What is it?** By repeatedly drawing samples from training set, we re-fit the model on each of these sample in order to obtain additional information about the fitted model.\n",
    "\n",
    "**Motivation?** Simply, the difference between test error and training error. Test error is difficult to obtain (absence of large test set) = > estimate test error: either mathematically OR holding out a subset of training data when fitting model and then applying a model on this omitted set.\n",
    "\n",
    "**What is it good for?**\n",
    "- Measure how well a given statistical learning procedure can be expected to perform on independent data = the actual estimate of the test MSE is of interest.\n",
    "- The location of minimum point in the estimated test MSE curve - the actual value of MSE-not important, location of minimum on MSE curve-important"
   ]
  },
  {
   "cell_type": "code",
   "execution_count": 139,
   "metadata": {},
   "outputs": [
    {
     "data": {
      "image/png": "[encoded data removed]",
      "text/plain": [
       "<Figure size 432x288 with 1 Axes>"
      ]
     },
     "metadata": {},
     "output_type": "display_data"
    }
   ],
   "source": [
    "#plot relationship for training and testing set: MSE x flexibility\n",
    "import matplotlib.pyplot as plt\n",
    "import numpy as np\n",
    "%matplotlib inline \n",
    "\n",
    "x = np.linspace(-1, 1, 1000)\n",
    "test = plt.plot(x, x**2 +0.13, label='Test')\n",
    "train = plt.plot(x, (-x)**3, label='Train')\n",
    "plt.legend()\n",
    "plt.axhline(y=0.08,linewidth=1)\n",
    "#plt.legend([train, test], ['Test', 'Train'])\n",
    "plt.xlabel('Flexibility (complexity of the model)')\n",
    "plt.ylabel('MSE')\n",
    "plt.xticks([], [])\n",
    "plt.yticks([], [])\n",
    "plt.title(\"Why to split into train/test set in the first place?\")\n",
    "\n",
    "plt.show()"
   ]
  },
  {
   "cell_type": "markdown",
   "metadata": {},
   "source": [
    "**Why not simple \"Validation set approach\" aka split into two sets** If we split training set randomly many times, test MSE will vary in value, all curves by there shape can tell which model is better(MSE lower) but we do not know the absolute value of MSE, i.e. we run into 2 drawbacks\n",
    "- MSE varies across different random split of the data\n",
    "- Model is fit based only on the training data, not the validation one and statistical methods tend to perform worse when trained on fewer observations = > Validation set error rate may OVERESTIMATE the test error rate for the model fit on the entire data set."
   ]
  },
  {
   "cell_type": "code",
   "execution_count": 110,
   "metadata": {},
   "outputs": [
    {
     "name": "stdout",
     "output_type": "stream",
     "text": [
      "R^2: 0.668482575397\n",
      "Mean Squared Error: 24.3114269297\n",
      "R^2: 0.732550767941\n",
      "Mean Squared Error: 15.1682181612\n"
     ]
    }
   ],
   "source": [
    "from sklearn_pandas import DataFrameMapper\n",
    "from sklearn.datasets import load_boston\n",
    "\n",
    "boston = load_boston()\n",
    "#'The Boston Housing Dataset - contains price of houses in various places in Boston, alongside with crime (CRIM), areas of non-retail business in the town (INDUS), the age of people who own the house (AGE)..\n",
    "#print(boston.data.shape)\n",
    "#print(boston.feature_names)\n",
    "#print(boston.DESCR)\n",
    "\n",
    "X = boston.data\n",
    "y = boston.target\n",
    "\n",
    "from sklearn.linear_model import LinearRegression\n",
    "from sklearn.metrics import mean_squared_error\n",
    "from sklearn import cross_validation\n",
    "from sklearn.model_selection import train_test_split\n",
    "\n",
    "# Create training and test sets\n",
    "X_train, X_test, y_train, y_test = train_test_split(X, y, test_size = 0.2, random_state=42)\n",
    "# Create the regressor\n",
    "reg_all = LinearRegression()\n",
    "# Fit the regressor to the training data\n",
    "reg_all.fit(X_train, y_train)\n",
    "# Predict on the test data\n",
    "y_pred = reg_all.predict(X_test)\n",
    "\n",
    "# Compute and print R^2 and RMSE\n",
    "print(\"R^2: {}\".format(reg_all.score(X_test, y_test)))\n",
    "mse = mean_squared_error(y_test,y_pred)\n",
    "print(\"Mean Squared Error: {}\".format(mse))\n",
    "\n",
    "\n",
    "\n",
    "#with different split\n",
    "X_train, X_test, y_train, y_test = train_test_split(X, y, test_size = 0.2, random_state=244)\n",
    "reg_all = LinearRegression()\n",
    "reg_all.fit(X_train, y_train)\n",
    "y_pred = reg_all.predict(X_test)\n",
    "\n",
    "print(\"R^2: {}\".format(reg_all.score(X_test, y_test)))\n",
    "mse = mean_squared_error(y_test,y_pred)\n",
    "print(\"Mean Squared Error: {}\".format(mse))"
   ]
  },
  {
   "cell_type": "markdown",
   "metadata": {},
   "source": [
    "To get rid off the drawbacks => **LOOCV = Leave One Out Cross Validation**\n",
    "\n",
    "LOOCV instead of splitting data into two comparable-size-samples, it splits into two samples but only a single observation is used for the validation set, the remaining is testing set. In this approach poor MSE estimate - highly variable because it is based only on one observation.\n",
    "\n",
    "Therefore take second observation as validation, test again on the remaining. Run this process over all observation, the MSE estimate will be an Average of $MSE_{i}$\n",
    "\n",
    "**Advantages of LOOCV over Validation set approach?**\n",
    "- less bias - does not over-estimate test error as much\n",
    "- performing LOOCV many times will always give same result (there is no randomness in the training/validation set split)"
   ]
  },
  {
   "cell_type": "code",
   "execution_count": 111,
   "metadata": {},
   "outputs": [
    {
     "name": "stdout",
     "output_type": "stream",
     "text": [
      "Mean Squared Error: 23.7292580812\n"
     ]
    }
   ],
   "source": [
    "# from sklearn.model_selection import LeaveOneOut \n",
    "# loo = LeaveOneOut()\n",
    "# loo.get_n_splits(X)\n",
    "\n",
    "# for train_index, test_index in loo.split(X):\n",
    "#    print(\"TRAIN:\", train_index, \"TEST:\", test_index)\n",
    "#    X_train, X_test = X[train_index], X[test_index]\n",
    "#    y_train, y_test = y[train_index], y[test_index]\n",
    "#    print(X_train, X_test, y_train, y_test)\n",
    "\n",
    "#can use k-fold cross validation where k=n, i.e. k-fold equivalent of Leave One Out strategy)\n",
    "from sklearn import cross_validation, linear_model\n",
    "import numpy as np\n",
    "\n",
    "loo = cross_validation.LeaveOneOut(len(y)) #k=n\n",
    "regr = linear_model.LinearRegression()\n",
    "scores = cross_validation.cross_val_score(regr, X, y, scoring='neg_mean_squared_error', cv=loo)\n",
    "\n",
    "print(\"Mean Squared Error: {}\".format((-scores).mean()))"
   ]
  },
  {
   "cell_type": "markdown",
   "metadata": {},
   "source": [
    "BUT LOOCV may be expensive, since the model needs to be fitted $n$ times, therefore here comes the  **K-Fold Cross Validation**\n",
    "\n",
    "**What is K-Fold Cross Validation?** Randomly dividing set of observations into k folds of approximately equal size. The first fold is used for validation, the remaining for testing, the $MSE_{1}$ is computed on the held out set. This process is done k-times, each time different fold is used as a validation set.\n",
    "\n",
    "$$ CV_{k} = 1/n \\sum_{i=1}^{k} MSE_{k} $$\n",
    "\n",
    "Meaning in fact LOOCV is a type of K-fold with $k=n$\n",
    "\n",
    "**What is the advantage to use $k=5$ or $k=10$ over $k=n$?**\n",
    "\n",
    "- Computational: if k=10 CV requires fitting the model procedure only 10 times\n",
    "- Bias-Variance Trade off: K-Fold may underestimate the test MSE but comes close to identifying the correct level of flexibility = the flexibility level that corresponds to the smallest test MSE.\n",
    "  - Validation Set Approach - biased because it uses only half of the dataset to fit model, LOOCV on average unbiased, K-fold intermediate level of bias. Therefore from the point of view of bias - LOOCV better, **HOWEVER**\n",
    "  - LOOCV has higher variance than K-Fold. Why? In LOOCV we are averaging the outputs of n fitted models, each of which trained almost on an identical set od observations, i.e. these outputs are highly correlated. In K-Fold we are averaging the outputs of k fitted models, that are somewhat less correlated. And since the mean of many highly correlated quantities has higher variance than does the mean of many quantities that are not as highly correlated, test error estimate from LOOCV tends to have a higher variance than K-Fold.\n",
    "\n",
    "\n",
    "*Note: There is a bias-variance trade-off associated with the choice of k in k-fold. Typically k=5 or k=10 as these have been empirically showed to yield test error estimates that suffer neither from excesively high bias nor from very high variance.*\n",
    "\n",
    "\n"
   ]
  },
  {
   "cell_type": "code",
   "execution_count": 112,
   "metadata": {},
   "outputs": [
    {
     "name": "stdout",
     "output_type": "stream",
     "text": [
      "Mean Squared Error: 23.3631500025\n"
     ]
    }
   ],
   "source": [
    "from sklearn.cross_validation import cross_val_score, cross_val_predict\n",
    "from sklearn import metrics\n",
    "\n",
    "crossval = cross_validation.KFold(len(y), n_folds=10,shuffle=True, random_state=42) \n",
    "regr = linear_model.LinearRegression()\n",
    "scores = cross_validation.cross_val_score(regr, X, y, scoring='neg_mean_squared_error', cv=crossval)\n",
    "print(\"Mean Squared Error: {}\".format((-scores).mean()))"
   ]
  },
  {
   "cell_type": "markdown",
   "metadata": {},
   "source": [
    "**Cross-Validation on classification problems**\n",
    "\n",
    "Instead of using MSE to quantify test error, we use number of missclassified observations.\n",
    "$$ CV_{i} = 1/n \\sum_{1}^{n} Err_{i} $$ $$Err_{i} = I(y_{i} \\neq \\hat{y_{i}}) $$\n",
    "\n",
    "\n"
   ]
  },
  {
   "cell_type": "code",
   "execution_count": 138,
   "metadata": {},
   "outputs": [
    {
     "name": "stdout",
     "output_type": "stream",
     "text": [
      "R squared: 0.981481481481\n",
      "MSE: 0.0185185185185\n"
     ]
    }
   ],
   "source": [
    "from sklearn.preprocessing import Imputer, StandardScaler\n",
    "from sklearn.pipeline import Pipeline\n",
    "from sklearn.svm import SVC\n",
    "from sklearn.metrics import mean_squared_error, classification_report\n",
    "from sklearn.model_selection import GridSearchCV, train_test_split\n",
    "from sklearn.datasets import load_wine\n",
    "\n",
    "\n",
    "wine = load_wine()\n",
    "#print(type(wine))\n",
    "#print(wine.keys())\n",
    "#print(wine.target_names)\n",
    "#print(wine.feature_names)\n",
    "X = wine.data\n",
    "y = wine.target\n",
    "\n",
    "\n",
    "# Setup the pipeline\n",
    "steps = [('scaler', StandardScaler()),\n",
    "         ('SVM', SVC())]\n",
    "\n",
    "pipeline = Pipeline(steps)\n",
    "\n",
    "# Specify the hyperparameter space\n",
    "parameters = {'SVM__C':[1, 10, 100],\n",
    "              'SVM__gamma':[0.1, 0.01]}\n",
    "\n",
    "# Create train and test sets\n",
    "X_train, X_test, y_train, y_test = train_test_split(X,y, test_size=0.3, random_state=42)\n",
    "\n",
    "# Instantiate the GridSearchCV object\n",
    "cv = GridSearchCV(pipeline, parameters, cv=8)\n",
    "# Fit to the training set\n",
    "cv.fit(X_train,y_train)\n",
    "\n",
    "# Predict the labels of the test set\n",
    "y_pred = cv.predict(X_test)\n",
    "r2 = cv.score(X_test, y_test)\n",
    "mse = mean_squared_error(y_test, y_pred)\n",
    "print(\"R squared: {}\".format(r2))\n",
    "print(\"MSE: {}\".format(mse))"
   ]
  },
  {
   "cell_type": "markdown",
   "metadata": {},
   "source": [
    "**Cross Validation vs. Bootstrap?**\n",
    "\n",
    "Cross Validation - a technique to validate the performance of a model to make sure that we are not overfitting the training dataset. \n",
    "\n",
    "Bootstrap - rather used to estimate variance of a parameter / estimate. It is a way of simulating the \"correct distribution\". However since distribution is unknown, we need to repeat some data points to make sure that we can create these samples from limited data set.\n",
    "\n",
    "In summary , Cross Validation \"splits\" the available data-set to create multiple datasets, and Bootstraps \"clones\" or extrapolates original data-sets to create multiple data-sets. Bootstrap is not a model validation technique or, it is weaker than cross validation if used for model validation.\n",
    "\n",
    "**Bootstrap Motivation?**\n",
    "\n",
    "(1) You want to ask a question about a population but you can't. \n",
    "\n",
    "(2) So you take a sample and ask the question about the sample instead. \n",
    "\n",
    "(3) How close is the sample answer to the population answer? Depends on the structure of the population. How to asses this?\n",
    "\n",
    "- take repeated samples from the population, ask your question, and see the variability in the answers *(unrealistic)*\n",
    "- make some assumptions about the shape of the population (normal, binomial distributions..) repeatedly generate samples of the same size as the one you have and again keep asking them the same question *(too many assumptions)* \n",
    "- use the information in the sample you actually have to learn about it, i.e. actually sample from your original sample (the sample you have is also a population, just a very small discrete one) Sampling 'with replacement' is just a convenient way to treat the sample like it's a population and to sample from it in a way that reflects its shape.\n",
    "  - Why is this any good?  Because most samples will, if they're randomly chosen, look quite like the population they came from. \n",
    " \n",
    "I.e. we arrived to the bootstrap.\n",
    "\n",
    "In bootstrap, we are pretending that the (large) sample we have is a proxy for our population. Then we draw lots of bootstrap samples and estimate parameters of interest."
   ]
  },
  {
   "cell_type": "markdown",
   "metadata": {},
   "source": [
    "### Reference\n",
    "James, G., Witten, D., Hastie, T., & Tibshirani, R. (2013). An introduction to statistical learning (Vol. 112). New York: springer."
   ]
  }
 ],
 "metadata": {
  "kernelspec": {
   "display_name": "Python [conda env:anaconda3]",
   "language": "python",
   "name": "conda-env-anaconda3-py"
  },
  "language_info": {
   "codemirror_mode": {
    "name": "ipython",
    "version": 2
   },
   "file_extension": ".py",
   "mimetype": "text/x-python",
   "name": "python",
   "nbconvert_exporter": "python",
   "pygments_lexer": "ipython2",
   "version": "2.7.15"
  }
 },
 "nbformat": 4,
 "nbformat_minor": 2
}
